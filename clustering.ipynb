{
 "cells": [
  {
   "cell_type": "code",
   "execution_count": 446,
   "metadata": {
    "collapsed": false
   },
   "outputs": [
    {
     "name": "stdout",
     "output_type": "stream",
     "text": [
      "18\n"
     ]
    }
   ],
   "source": [
    "%matplotlib inline  \n",
    "import pandas as pd\n",
    "import numpy as np\n",
    "#from sklearn.decomposition import PCA as pca\n",
    "from sklearn import decomposition\n",
    "import matplotlib.pyplot as plt\n",
    "from sklearn.preprocessing import StandardScaler, normalize\n",
    "from scipy.cluster.vq import kmeans,vq\n",
    "from scipy.spatial.distance import cdist, pdist\n",
    "from matplotlib import cm\n",
    "from sklearn.metrics import silhouette_samples, silhouette_score\n",
    "from sklearn.decomposition import PCA\n",
    "\n",
    "df = pd.read_csv('seismic-bumps.csv', index_col=False, header=0)\n",
    "x_names = df.columns.tolist()[0:len(df.columns.tolist()) - 1]\n",
    "x = df[x_names]\n",
    "y = df[['class']]\n",
    "print(len(x.columns))"
   ]
  },
  {
   "cell_type": "code",
   "execution_count": 447,
   "metadata": {
    "collapsed": false
   },
   "outputs": [
    {
     "name": "stdout",
     "output_type": "stream",
     "text": [
      "['a' 'b']\n",
      "['a' 'b' 'c']\n",
      "['N' 'W']\n",
      "['a' 'b' 'c']\n"
     ]
    }
   ],
   "source": [
    "#Passar colunas categoricas para numericas\n",
    "seismic = np.unique(x[['seismic']])\n",
    "seismoacoustic = np.unique(x[['seismoacoustic']])\n",
    "shift = np.unique(x[['shift']])\n",
    "ghazard = np.unique(x[['ghazard']])\n",
    "\n",
    "print(seismic)\n",
    "print(seismoacoustic)\n",
    "print(shift)\n",
    "print(ghazard)\n",
    "x[['seismic']] = x[['seismic']].applymap(lambda x: 0 if x == 'a' else 1)\n",
    "x[['seismoacoustic']] = x[['seismoacoustic']].applymap(lambda x: 0 if x == 'a' else (1 if x == 'b' else 2 ))\n",
    "x[['shift']] = x[['shift']].applymap(lambda x: 0 if x == 'N' else 1)\n",
    "x[['ghazard']] = x[['ghazard']].applymap(lambda x: 0 if x == 'a' else 1 if x == 'b' else 2 )\n",
    "x.to_csv('sismo_dataset.csv',index=False)"
   ]
  },
  {
   "cell_type": "code",
   "execution_count": 448,
   "metadata": {
    "collapsed": false
   },
   "outputs": [
    {
     "name": "stdout",
     "output_type": "stream",
     "text": [
      "['seismic', 'seismoacoustic', 'shift', 'genergy', 'gpuls', 'gdenergy', 'gdpuls', 'ghazard', 'nbumps', 'nbumps2', 'nbumps3', 'nbumps4', 'nbumps5', 'nbumps6', 'nbumps7', 'nbumps89', 'energy', 'maxenergy']\n",
      "------------------------\n",
      "[  3.79585241e+00   2.30615260e+00   2.25364761e+00   1.38330353e+00\n",
      "   1.12118142e+00   1.04919542e+00   8.68394114e-01   6.66279539e-01\n",
      "   5.89554994e-01   5.17128251e-01   2.08991376e-01   1.34356525e-01\n",
      "   1.00763129e-01   4.95443452e-03   2.44648636e-04   7.31338940e-37\n",
      "   1.05357615e-39   1.90627717e-70]\n",
      "------------------------\n",
      "[ 3.79585241  2.3061526 ]\n",
      "------------------------\n",
      "[ 0.25305683  0.15374351]\n",
      "0.406800334156\n",
      "------------------------\n"
     ]
    },
    {
     "data": {
      "text/html": [
       "<div>\n",
       "<table border=\"1\" class=\"dataframe\">\n",
       "  <thead>\n",
       "    <tr style=\"text-align: right;\">\n",
       "      <th></th>\n",
       "      <th>PC1</th>\n",
       "      <th>PC2</th>\n",
       "    </tr>\n",
       "  </thead>\n",
       "  <tbody>\n",
       "    <tr>\n",
       "      <th>nbumps</th>\n",
       "      <td>0.390872</td>\n",
       "      <td>0.368550</td>\n",
       "    </tr>\n",
       "    <tr>\n",
       "      <th>gpuls</th>\n",
       "      <td>0.370716</td>\n",
       "      <td>0.252384</td>\n",
       "    </tr>\n",
       "    <tr>\n",
       "      <th>nbumps4</th>\n",
       "      <td>0.320594</td>\n",
       "      <td>0.268953</td>\n",
       "    </tr>\n",
       "    <tr>\n",
       "      <th>shift</th>\n",
       "      <td>0.312265</td>\n",
       "      <td>0.169891</td>\n",
       "    </tr>\n",
       "    <tr>\n",
       "      <th>gdenergy</th>\n",
       "      <td>0.277112</td>\n",
       "      <td>0.279297</td>\n",
       "    </tr>\n",
       "    <tr>\n",
       "      <th>nbumps5</th>\n",
       "      <td>0.272938</td>\n",
       "      <td>0.245461</td>\n",
       "    </tr>\n",
       "    <tr>\n",
       "      <th>gdpuls</th>\n",
       "      <td>0.250705</td>\n",
       "      <td>0.000000</td>\n",
       "    </tr>\n",
       "    <tr>\n",
       "      <th>nbumps3</th>\n",
       "      <td>0.226772</td>\n",
       "      <td>0.231928</td>\n",
       "    </tr>\n",
       "    <tr>\n",
       "      <th>seismoacoustic</th>\n",
       "      <td>0.226549</td>\n",
       "      <td>0.204822</td>\n",
       "    </tr>\n",
       "    <tr>\n",
       "      <th>genergy</th>\n",
       "      <td>0.197385</td>\n",
       "      <td>0.049346</td>\n",
       "    </tr>\n",
       "    <tr>\n",
       "      <th>seismic</th>\n",
       "      <td>0.167648</td>\n",
       "      <td>0.058829</td>\n",
       "    </tr>\n",
       "    <tr>\n",
       "      <th>nbumps2</th>\n",
       "      <td>0.110038</td>\n",
       "      <td>0.215881</td>\n",
       "    </tr>\n",
       "    <tr>\n",
       "      <th>nbumps6</th>\n",
       "      <td>0.083258</td>\n",
       "      <td>0.146928</td>\n",
       "    </tr>\n",
       "    <tr>\n",
       "      <th>nbumps7</th>\n",
       "      <td>0.058810</td>\n",
       "      <td>-0.067160</td>\n",
       "    </tr>\n",
       "    <tr>\n",
       "      <th>ghazard</th>\n",
       "      <td>0.000000</td>\n",
       "      <td>0.000000</td>\n",
       "    </tr>\n",
       "    <tr>\n",
       "      <th>energy</th>\n",
       "      <td>0.000000</td>\n",
       "      <td>0.000000</td>\n",
       "    </tr>\n",
       "    <tr>\n",
       "      <th>maxenergy</th>\n",
       "      <td>-0.393095</td>\n",
       "      <td>-0.410556</td>\n",
       "    </tr>\n",
       "    <tr>\n",
       "      <th>nbumps89</th>\n",
       "      <td>-0.408216</td>\n",
       "      <td>0.000000</td>\n",
       "    </tr>\n",
       "  </tbody>\n",
       "</table>\n",
       "</div>"
      ],
      "text/plain": [
       "                     PC1       PC2\n",
       "nbumps          0.390872  0.368550\n",
       "gpuls           0.370716  0.252384\n",
       "nbumps4         0.320594  0.268953\n",
       "shift           0.312265  0.169891\n",
       "gdenergy        0.277112  0.279297\n",
       "nbumps5         0.272938  0.245461\n",
       "gdpuls          0.250705  0.000000\n",
       "nbumps3         0.226772  0.231928\n",
       "seismoacoustic  0.226549  0.204822\n",
       "genergy         0.197385  0.049346\n",
       "seismic         0.167648  0.058829\n",
       "nbumps2         0.110038  0.215881\n",
       "nbumps6         0.083258  0.146928\n",
       "nbumps7         0.058810 -0.067160\n",
       "ghazard         0.000000  0.000000\n",
       "energy          0.000000  0.000000\n",
       "maxenergy      -0.393095 -0.410556\n",
       "nbumps89       -0.408216  0.000000"
      ]
     },
     "execution_count": 448,
     "metadata": {},
     "output_type": "execute_result"
    }
   ],
   "source": [
    "print(x.columns.tolist())\n",
    "print(\"------------------------\")\n",
    "\n",
    "#Scalling data\n",
    "scaler = StandardScaler()\n",
    "x_ = scaler.fit(x).transform(x)\n",
    "\n",
    "#PCA\n",
    "pca = decomposition.PCA()\n",
    "pca.fit(x_)\n",
    "print(pca.explained_variance_) \n",
    "\n",
    "##So dois componentes\n",
    "pca.n_components = 2\n",
    "scores = pca.fit_transform(x_)\n",
    "print(\"------------------------\")\n",
    "print(pca.explained_variance_)\n",
    "print(\"------------------------\")\n",
    "print(pca.explained_variance_ratio_)\n",
    "print(sum(pca.explained_variance_ratio_))\n",
    "print(\"------------------------\")\n",
    "\n",
    "#Loadings\n",
    "loadings = pca.components_\n",
    "df = pd.DataFrame(loadings.reshape(18,2))\n",
    "df.columns = ['PC1', 'PC2']\n",
    "df.index   = x.columns\n",
    "df_p1 = df.sort(['PC1'], ascending=False)\n",
    "df_p2 = df.sort(['PC2'], ascending=False)\n",
    "df_p1\n"
   ]
  },
  {
   "cell_type": "code",
   "execution_count": 449,
   "metadata": {
    "collapsed": false
   },
   "outputs": [
    {
     "name": "stdout",
     "output_type": "stream",
     "text": [
      "Reduced dataset shape: (2584, 2)\n",
      "Meaning of the 2 components:\n",
      "0.168 x seismic + 0.059 x seismoacoustic + 0.227 x shift + 0.205 x genergy + 0.312 x gpuls + 0.170 x gdenergy + 0.197 x gdpuls + 0.049 x ghazard + 0.371 x nbumps + 0.252 x nbumps2 + 0.277 x nbumps3 + 0.279 x nbumps4 + 0.251 x nbumps5 + 0.000 x nbumps6 + 0.000 x nbumps7 + 0.000 x nbumps89 + 0.391 x energy + 0.369 x maxenergy\n",
      "0.110 x seismic + 0.216 x seismoacoustic + 0.227 x shift + 0.232 x genergy + 0.321 x gpuls + 0.269 x gdenergy + 0.273 x gdpuls + 0.245 x ghazard + 0.083 x nbumps + 0.147 x nbumps2 + 0.059 x nbumps3 + -0.067 x nbumps4 + -0.408 x nbumps5 + 0.000 x nbumps6 + 0.000 x nbumps7 + 0.000 x nbumps89 + -0.393 x energy + -0.411 x maxenergy\n"
     ]
    },
    {
     "data": {
      "image/png": "[encoded data removed]",
      "text/plain": [
       "<matplotlib.figure.Figure at 0x7efe656bda90>"
      ]
     },
     "metadata": {},
     "output_type": "display_data"
    }
   ],
   "source": [
    "pca = PCA(n_components=2)\n",
    "pca.fit(x_)\n",
    "X_reduced = pca.transform(x_)\n",
    "print \"Reduced dataset shape:\", X_reduced.shape\n",
    "\n",
    "import pylab as pl\n",
    "pl.scatter(X_reduced[:, 0], X_reduced[:, 1], c=y.values)\n",
    "\n",
    "print \"Meaning of the 2 components:\"\n",
    "for component in pca.components_:\n",
    "    print \" + \".join(\"%.3f x %s\" % (value, name)\n",
    "                     for value, name in zip(component,\n",
    "                                           x_names))\n",
    " "
   ]
  },
  {
   "cell_type": "code",
   "execution_count": 450,
   "metadata": {
    "collapsed": false
   },
   "outputs": [
    {
     "name": "stderr",
     "output_type": "stream",
     "text": [
      "/usr/lib/python2.7/dist-packages/sklearn/utils/extmath.py:71: DeprecationWarning: Implicitly casting between incompatible kinds. In a future numpy release, this will raise an error. Use casting=\"unsafe\" if this is intentional.\n",
      "  np.sqrt(norms, norms)\n"
     ]
    }
   ],
   "source": [
    "#x = x[['seismic', 'seismoacoustic', 'shift', 'genergy', 'gpuls', 'gdenergy', 'gdpuls', \n",
    "#       'nbumps', 'nbumps2', 'nbumps3', 'nbumps4', 'nbumps5', 'nbumps6', 'nbumps7', 'nbumps89', \n",
    "#       'maxenergy']]\n",
    "x_ = normalize(x)\n",
    "#x_ = x"
   ]
  },
  {
   "cell_type": "code",
   "execution_count": 451,
   "metadata": {
    "collapsed": false
   },
   "outputs": [
    {
     "name": "stdout",
     "output_type": "stream",
     "text": [
      "('For n_clusters =', 2, 'The average silhouette_score is :', 0.65288098721262322)\n",
      "('For n_clusters =', 3, 'The average silhouette_score is :', 0.62623340681154804)\n",
      "('For n_clusters =', 4, 'The average silhouette_score is :', 0.66307506192590215)\n",
      "('For n_clusters =', 5, 'The average silhouette_score is :', 0.73830587291912542)\n",
      "('For n_clusters =', 6, 'The average silhouette_score is :', 0.82008583016835401)\n",
      "('For n_clusters =', 7, 'The average silhouette_score is :', 0.96267352441825627)\n",
      "('For n_clusters =', 8, 'The average silhouette_score is :', 1.0)\n",
      "('For n_clusters =', 9, 'The average silhouette_score is :', 1.0)\n"
     ]
    },
    {
     "data": {
      "text/plain": [
       "<matplotlib.legend.Legend at 0x7efe6547e490>"
      ]
     },
     "execution_count": 451,
     "metadata": {},
     "output_type": "execute_result"
    },
    {
     "data": {
      "image/png": "[encoded data removed]",
      "text/plain": [
       "<matplotlib.figure.Figure at 0x7efe653ec5d0>"
      ]
     },
     "metadata": {},
     "output_type": "display_data"
    },
    {
     "data": {
      "image/png": "[encoded data removed]",
      "text/plain": [
       "<matplotlib.figure.Figure at 0x7efe65875d50>"
      ]
     },
     "metadata": {},
     "output_type": "display_data"
    }
   ],
   "source": [
    "#Nota x_ é x com scalling!\n",
    "\n",
    "##### cluster data into K=2..10 clusters #####\n",
    "K = range(2,10)\n",
    "\n",
    "# scipy.cluster.vq.kmeans\n",
    "KM  = [KMeans(n_clusters=k, random_state=10, n_init=1, init='random').fit(x_) for k in K]\n",
    "centroids = [X.cluster_centers_ for X in KM]   # cluster centroids\n",
    "\n",
    "# The silhouette_score gives the average value for all the samples.\n",
    "clusters_labels = [KMeans(n_clusters=k, random_state=10, n_init=1, init='random').fit_predict(x_) for k in K]\n",
    "for label,k in zip(clusters_labels, K):\n",
    "    silhouette_avg = silhouette_score(x_, label)\n",
    "    print(\"For n_clusters =\", k,\n",
    "          \"The average silhouette_score is :\", silhouette_avg)\n",
    "\n",
    "#Calculate the Eucidean distance from\n",
    "#each point to each cluster center\n",
    "k_euclid = [cdist(x_, cent, 'euclidean') for cent in centroids]\n",
    "dist = [np.min(ke,axis=1) for ke in k_euclid]\n",
    "\n",
    "\n",
    "#Total within-cluster sum of squares\n",
    "wcss = [sum(d**2) for d in dist]\n",
    "\n",
    "#Total total sum of squares\n",
    "tss = sum(pdist(x_)**2)/x.shape[0]\n",
    "\n",
    "#The between-cluster sum of squares\n",
    "bss = tss - wcss\n",
    "\n",
    "##### plot ###\n",
    "kIdx = 0 #3 k=5, colocar k - 2 do que se quer!\n",
    "clr = cm.spectral( np.linspace(0,1,10) ).tolist()\n",
    "mrk = 'os^p<dvh8>+x.'\n",
    "\n",
    "# elbow curve\n",
    "fig = plt.figure()\n",
    "ax = fig.add_subplot(111)\n",
    "ax.plot(K, bss/tss*100, 'b*-')\n",
    "ax.plot(K[kIdx], bss[kIdx]/tss*100, marker='o', markersize=12, \n",
    "    markeredgewidth=2, markeredgecolor='r', markerfacecolor='None')\n",
    "ax.set_xlim((1,max(K) + 1))\n",
    "ax.set_ylim((0,100))\n",
    "plt.grid(True)\n",
    "plt.xlabel('Number of clusters')\n",
    "plt.ylabel('Percentage of variance explained (%)')\n",
    "plt.title('Elbow for KMeans clustering')\n",
    "\n",
    "\n",
    "# scatter plot\n",
    "fig = plt.figure()\n",
    "ax = fig.add_subplot(111)\n",
    "#ax.scatter(X[:,2],X[:,1], s=30, c=cIdx[k])\n",
    "clr = ['b','g','r','c','m','y','k']\n",
    "for i in range(K[kIdx]):\n",
    "    ind = (cIdx[kIdx]==i)\n",
    "    ax.scatter(X_reduced[ind,0],X_reduced[ind,1], s=30, c=clr[i], label='Cluster %d'%i)\n",
    "plt.xlabel('PC1')\n",
    "plt.ylabel('PC2')\n",
    "plt.title('seismic-bumps Dataset, KMeans clustering with K=%d' % K[kIdx])\n",
    "plt.legend()\n"
   ]
  }
 ],
 "metadata": {
  "kernelspec": {
   "display_name": "Python 2",
   "language": "python",
   "name": "python2"
  },
  "language_info": {
   "codemirror_mode": {
    "name": "ipython",
    "version": 2
   },
   "file_extension": ".py",
   "mimetype": "text/x-python",
   "name": "python",
   "nbconvert_exporter": "python",
   "pygments_lexer": "ipython2",
   "version": "2.7.10"
  }
 },
 "nbformat": 4,
 "nbformat_minor": 0
}
